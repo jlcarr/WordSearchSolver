{
 "cells": [
  {
   "cell_type": "markdown",
   "id": "6c128025",
   "metadata": {},
   "source": [
    "# Word Search Solver\n",
    "I was inspired by [this Reddit post](https://www.reddit.com/r/puzzles/comments/1e5ml2e/my_wife_says_word_searches_are_too_easy_so_i_made/) to write an automated [word search](https://en.wikipedia.org/wiki/Word_search) solver. It's a great excuse to work with OCR and image processing tools.\n",
    "\n",
    "I thought I'd need some image segmenting and clusering tools to determine the grid, but it turns out for nicely formatted grids given as a nice digital image we can actually do things much more easily with just numpy."
   ]
  },
  {
   "cell_type": "markdown",
   "id": "53ff953e",
   "metadata": {},
   "source": [
    "## Solution"
   ]
  },
  {
   "cell_type": "markdown",
   "id": "24ae5c03",
   "metadata": {},
   "source": [
    "### Tools"
   ]
  },
  {
   "cell_type": "code",
   "execution_count": null,
   "id": "a1426fed",
   "metadata": {},
   "outputs": [],
   "source": [
    "from PIL import Image, ImageDraw"
   ]
  },
  {
   "cell_type": "code",
   "execution_count": null,
   "id": "1503561a",
   "metadata": {},
   "outputs": [],
   "source": [
    "import numpy as np"
   ]
  },
  {
   "cell_type": "code",
   "execution_count": null,
   "id": "adb3e542",
   "metadata": {},
   "outputs": [],
   "source": [
    "import pytesseract"
   ]
  },
  {
   "cell_type": "markdown",
   "id": "a86ea5cf",
   "metadata": {},
   "source": [
    "### Preprocessing / Transcription"
   ]
  },
  {
   "cell_type": "code",
   "execution_count": null,
   "id": "0aafb975",
   "metadata": {},
   "outputs": [],
   "source": [
    "def axis_gridding(ax):\n",
    "    streak_indices = np.argwhere(np.diff(ax)).ravel() # excluding start and end\n",
    "    streak_lengths = np.diff(streak_indices)\n",
    "    streak_centers = streak_indices[:-1] + streak_lengths/2\n",
    "    char_centers = streak_centers[0::2]\n",
    "    n = len(char_centers)\n",
    "    grid_spacing, grid_offset = np.polyfit(np.arange(n), char_centers, 1)\n",
    "    return n, grid_spacing, grid_offset\n",
    "\n",
    "def transcribe_wordsearch(img, verbose=False):\n",
    "    img = img.convert('L')\n",
    "    arr = np.array(img)\n",
    "    bin_arr = arr < 128\n",
    "    \n",
    "    nx, dx, ox = axis_gridding(np.any(bin_arr, axis=0))\n",
    "    ny, dy, oy = axis_gridding(np.any(bin_arr, axis=1))\n",
    "    if verbose:\n",
    "        print(f\"{nx} columns, spaced {dx}, starting at {ox}\")\n",
    "        print(f\"{ny} rows, spaced {dy}, starting at {oy}\")\n",
    "\n",
    "    grid = []\n",
    "    for i in range(ny):\n",
    "        grid.append([])\n",
    "        y0 = max(0, oy + i * dy - dy//2)\n",
    "        y1 = min(img.size[1], oy + i * dy + dy//2)\n",
    "        for j in range(nx):\n",
    "            x0 = max(0, ox + j * dx - dx//2)\n",
    "            x1 = min(img.size[0], ox + j * dx + dx//2)\n",
    "            cimg = img.crop((x0, y0, x1, y1))\n",
    "            c = pytesseract.image_to_string(cimg, config='--psm 10').strip()\n",
    "            grid[-1].append(c)\n",
    "            if verbose:\n",
    "                print(f\"Processed row {i} / {ny}, column {j} / {nx}: {c}\")\n",
    "    return grid, (nx, dx, ox), (ny, dy, oy)"
   ]
  },
  {
   "cell_type": "code",
   "execution_count": null,
   "id": "897fb89d",
   "metadata": {},
   "outputs": [],
   "source": [
    "def check_grid(grid_img, nx, dx, ox, ny, dy, oy):\n",
    "    check_grid_img = grid_img.copy()\n",
    "    draw_check_grid_img = ImageDraw.Draw(check_grid_img)\n",
    "    for i in range(nx):\n",
    "        draw_check_grid_img.line((ox+dx*i,0,ox+dx*i,check_grid_img.size[1]), fill=(255,0,0), width=1)\n",
    "    for i in range(nx):\n",
    "        draw_check_grid_img.line((0,oy+dy*i,check_grid_img.size[0],oy+dy*i), fill=(255,0,0), width=1)\n",
    "    return check_grid_img"
   ]
  },
  {
   "cell_type": "markdown",
   "id": "26a6abc4",
   "metadata": {},
   "source": [
    "### Search Algorithm"
   ]
  },
  {
   "cell_type": "code",
   "execution_count": null,
   "id": "812a146e",
   "metadata": {},
   "outputs": [],
   "source": [
    "def build_trie(wordlist):\n",
    "    trie = dict()\n",
    "    for word in wordlist:\n",
    "        curr = trie\n",
    "        for c in word.upper():\n",
    "            if c not in curr:\n",
    "                curr[c] = dict()\n",
    "            curr = curr[c]\n",
    "        if 'END' not in curr:\n",
    "            curr['END'] = word\n",
    "    return trie"
   ]
  },
  {
   "cell_type": "code",
   "execution_count": null,
   "id": "27f3cbb8",
   "metadata": {},
   "outputs": [],
   "source": [
    "def wordsearch(grid, wordlist):\n",
    "    trie = build_trie(wordlist)\n",
    "    nx,ny = len(grid),len(grid[0])\n",
    "    result = dict()\n",
    "    for i in range(nx):\n",
    "        for j in range(ny):\n",
    "            for di in [-1,0,1]:\n",
    "                for dj in [-1,0,1]:\n",
    "                    if di == 0 and dj == 0:\n",
    "                        continue\n",
    "                    ip,jp = i,j\n",
    "                    curr = trie\n",
    "                    c = grid[i][j]\n",
    "                    while c in curr:\n",
    "                        curr = curr[c]\n",
    "                        if 'END' in curr:\n",
    "                            w = curr['END']\n",
    "                            if w not in result:\n",
    "                                result[w] = []\n",
    "                            result[w].append(((i,j), (ip,jp)))\n",
    "                        ip += di\n",
    "                        jp += dj\n",
    "                        if not ((0 <= ip < len(grid)) and (0 <= jp < len(grid[0]))):\n",
    "                            break\n",
    "                        c = grid[ip][jp]\n",
    "    return result"
   ]
  },
  {
   "cell_type": "markdown",
   "id": "f2a0a5bb",
   "metadata": {},
   "source": [
    "### Display Results"
   ]
  },
  {
   "cell_type": "code",
   "execution_count": null,
   "id": "b89be558",
   "metadata": {},
   "outputs": [],
   "source": [
    "def draw_solution(img, solution, nx, dx, ox, ny, dy, oy, circling_size=0.8):\n",
    "    solved = img.copy()\n",
    "    draw_solved = ImageDraw.Draw(solved)\n",
    "    red = (255,0,0)\n",
    "\n",
    "    rx = dx / 2 * circling_size\n",
    "    ry = dy / 2 * circling_size\n",
    "    for locations in solution.values():\n",
    "        for ((y0,x0),(y1,x1)) in locations:\n",
    "            x0 = ox + dx * x0\n",
    "            y0 = oy + dy * y0\n",
    "            x1 = ox + dx * x1\n",
    "            y1 = oy + dy * y1\n",
    "\n",
    "            #draw_solved.line(((x0,y0),(x1,y1)), fill=(255,0,0), width=2)\n",
    "            angle = np.arctan2((y1-y0), x1-x0) % (2 * np.pi)\n",
    "            cdx = np.cos(angle-np.pi/2) * rx\n",
    "            cdy = np.sin(angle-np.pi/2) * ry\n",
    "            deg = angle * 180 / np.pi\n",
    "            draw_solved.line(((x0-cdx,y0-cdy),(x1-cdx,y1-cdy)), fill=red, width=3)\n",
    "            draw_solved.arc(((x1-rx,y1-ry),(x1+rx,y1+ry)), deg-90, deg+90, fill=red, width=3)\n",
    "            draw_solved.line(((x0+cdx,y0+cdy),(x1+cdx,y1+cdy)), fill=red, width=3)\n",
    "            draw_solved.arc(((x0-rx,y0-ry),(x0+rx,y0+ry)), deg+90, deg+90+180, fill=red, width=3)\n",
    "    return solved"
   ]
  },
  {
   "cell_type": "markdown",
   "id": "9c6df553",
   "metadata": {},
   "source": [
    "## Example 1: u/xuol's from Reddit\n",
    "Original post [here](https://www.reddit.com/r/puzzles/comments/1e5ml2e/my_wife_says_word_searches_are_too_easy_so_i_made/)."
   ]
  },
  {
   "cell_type": "markdown",
   "id": "0de5387d",
   "metadata": {},
   "source": [
    "### Open Data"
   ]
  },
  {
   "cell_type": "code",
   "execution_count": null,
   "id": "86e2fd49",
   "metadata": {},
   "outputs": [],
   "source": [
    "import requests\n",
    "import io"
   ]
  },
  {
   "cell_type": "code",
   "execution_count": null,
   "id": "52d7d28f",
   "metadata": {},
   "outputs": [],
   "source": [
    "puzzle_img = Image.open(io.BytesIO(requests.get('https://i.redd.it/fg9pqcl7v3dd1.png').content))\n",
    "#puzzle_img = Image.open('uxol-wordsearch.png')\n",
    "puzzle_img"
   ]
  },
  {
   "cell_type": "code",
   "execution_count": null,
   "id": "9d12cb87",
   "metadata": {},
   "outputs": [],
   "source": [
    "grid_img = puzzle_img.crop((0,0,puzzle_img.size[0]-200,puzzle_img.size[1]))\n",
    "grid_img.resize((grid_img.size[0]//3, grid_img.size[1]//3))"
   ]
  },
  {
   "cell_type": "code",
   "execution_count": null,
   "id": "e1ff59ba",
   "metadata": {},
   "outputs": [],
   "source": [
    "wordlist_img = puzzle_img.crop((puzzle_img.size[0]-200,0,puzzle_img.size[0],puzzle_img.size[1]))\n",
    "wordlist_img.resize((wordlist_img.size[0]//3, wordlist_img.size[1]//3))"
   ]
  },
  {
   "cell_type": "code",
   "execution_count": null,
   "id": "a1819702",
   "metadata": {},
   "outputs": [],
   "source": [
    "wordlist = pytesseract.image_to_string(wordlist_img).split()\n",
    "wordlist"
   ]
  },
  {
   "cell_type": "markdown",
   "id": "976984ff",
   "metadata": {},
   "source": [
    "### Apply Solution"
   ]
  },
  {
   "cell_type": "markdown",
   "id": "7b942951",
   "metadata": {},
   "source": [
    "#### Transcribe"
   ]
  },
  {
   "cell_type": "code",
   "execution_count": null,
   "id": "ab5e9a01",
   "metadata": {},
   "outputs": [],
   "source": [
    "grid, (nx, dx, ox), (ny, dy, oy) = transcribe_wordsearch(grid_img)"
   ]
  },
  {
   "cell_type": "code",
   "execution_count": null,
   "id": "745438b0",
   "metadata": {},
   "outputs": [],
   "source": [
    "check_grid(grid_img, nx, dx, ox, ny, dy, oy)"
   ]
  },
  {
   "cell_type": "code",
   "execution_count": null,
   "id": "69d8504c",
   "metadata": {},
   "outputs": [],
   "source": [
    "print('\\n'.join(' '.join(row) for row in grid))"
   ]
  },
  {
   "cell_type": "markdown",
   "id": "3b81bbdc",
   "metadata": {},
   "source": [
    "#### Correct Transcription"
   ]
  },
  {
   "cell_type": "code",
   "execution_count": null,
   "id": "c5bc1f33",
   "metadata": {},
   "outputs": [],
   "source": [
    "remap = {'|': 'I', 'l': 'I'}\n",
    "fixedgrid = [[remap.get(c, c) for c in row] for row in grid]\n",
    "print('\\n'.join(' '.join(row) for row in fixedgrid))"
   ]
  },
  {
   "cell_type": "markdown",
   "id": "8749264f",
   "metadata": {},
   "source": [
    "#### Perform Search"
   ]
  },
  {
   "cell_type": "code",
   "execution_count": null,
   "id": "f6e2191a",
   "metadata": {},
   "outputs": [],
   "source": [
    "solution = wordsearch(fixedgrid, wordlist)\n",
    "solution"
   ]
  },
  {
   "cell_type": "code",
   "execution_count": null,
   "id": "a8eaf235",
   "metadata": {},
   "outputs": [],
   "source": [
    "for w in wordlist:\n",
    "    if w not in solution:\n",
    "        print(f\"{w} NOT FOUND\")\n",
    "    else:\n",
    "        print(f\"- '{w}' found {len(solution[w])} times\")"
   ]
  },
  {
   "cell_type": "markdown",
   "id": "d71cc5d1",
   "metadata": {},
   "source": [
    "### Visualize Solution"
   ]
  },
  {
   "cell_type": "code",
   "execution_count": null,
   "id": "21050b75",
   "metadata": {},
   "outputs": [],
   "source": [
    "draw_solution(grid_img, solution, nx, dx, ox, ny, dy, oy, circling_size=0.6)"
   ]
  },
  {
   "cell_type": "code",
   "execution_count": null,
   "id": "aadc5e51",
   "metadata": {},
   "outputs": [],
   "source": []
  },
  {
   "cell_type": "markdown",
   "id": "0d48c84f",
   "metadata": {},
   "source": [
    "## Example 2: u/OTDisLanguish's from Reddit\n",
    "Original post [here](https://www.reddit.com/r/puzzles/comments/1e62t9s/worst_search_blame_uxuol/)."
   ]
  },
  {
   "cell_type": "code",
   "execution_count": null,
   "id": "66e23bf5",
   "metadata": {},
   "outputs": [],
   "source": [
    "puzzle_img = Image.open(io.BytesIO(requests.get('https://i.redd.it/8u47ucjmg7dd1.png').content))\n",
    "puzzle_img"
   ]
  },
  {
   "cell_type": "code",
   "execution_count": null,
   "id": "783a705b",
   "metadata": {},
   "outputs": [],
   "source": [
    "grid_img = puzzle_img.crop((0,0,puzzle_img.size[0]-620,puzzle_img.size[1]))\n",
    "grid_img.resize((grid_img.size[0]//3, grid_img.size[1]//3))"
   ]
  },
  {
   "cell_type": "code",
   "execution_count": null,
   "id": "86a0dc26",
   "metadata": {},
   "outputs": [],
   "source": [
    "wordlist_img = puzzle_img.crop((puzzle_img.size[0]-620,166,puzzle_img.size[0],puzzle_img.size[1]))\n",
    "wordlist_img.resize((wordlist_img.size[0]//3, wordlist_img.size[1]//3))"
   ]
  },
  {
   "cell_type": "code",
   "execution_count": null,
   "id": "10ee6eb3",
   "metadata": {},
   "outputs": [],
   "source": [
    "wordlist = pytesseract.image_to_string(wordlist_img).split()\n",
    "wordlist"
   ]
  },
  {
   "cell_type": "code",
   "execution_count": null,
   "id": "04ed6c30",
   "metadata": {},
   "outputs": [],
   "source": [
    "grid, (nx, dx, ox), (ny, dy, oy) = transcribe_wordsearch(grid_img)"
   ]
  },
  {
   "cell_type": "code",
   "execution_count": null,
   "id": "d3610764",
   "metadata": {},
   "outputs": [],
   "source": [
    "check_grid(grid_img, nx, dx, ox, ny, dy, oy)"
   ]
  },
  {
   "cell_type": "code",
   "execution_count": null,
   "id": "04a1059a",
   "metadata": {},
   "outputs": [],
   "source": [
    "print('\\n'.join(' '.join(row) for row in grid))"
   ]
  },
  {
   "cell_type": "code",
   "execution_count": null,
   "id": "a2c362ab",
   "metadata": {},
   "outputs": [],
   "source": [
    "remap = {'Ss': 'S'}\n",
    "fixedgrid = [[remap.get(c, c) for c in row] for row in grid]\n",
    "print('\\n'.join(' '.join(row) for row in fixedgrid))"
   ]
  },
  {
   "cell_type": "code",
   "execution_count": null,
   "id": "93e7ee60",
   "metadata": {},
   "outputs": [],
   "source": [
    "solution = wordsearch(fixedgrid, wordlist)\n",
    "solution"
   ]
  },
  {
   "cell_type": "code",
   "execution_count": null,
   "id": "f25c50e0",
   "metadata": {},
   "outputs": [],
   "source": [
    "for w in wordlist:\n",
    "    if w not in solution:\n",
    "        print(f\"- '{w}' NOT FOUND\")\n",
    "    else:\n",
    "        print(f\"- '{w}' found {len(solution[w])} times\")"
   ]
  },
  {
   "cell_type": "code",
   "execution_count": null,
   "id": "882bd59a",
   "metadata": {},
   "outputs": [],
   "source": [
    "draw_solution(grid_img, solution, nx, dx, ox, ny, dy, oy, circling_size=0.9)"
   ]
  },
  {
   "cell_type": "code",
   "execution_count": null,
   "id": "a47df902",
   "metadata": {},
   "outputs": [],
   "source": []
  },
  {
   "cell_type": "markdown",
   "id": "0debc11b",
   "metadata": {},
   "source": [
    "## References\n",
    "- https://pypi.org/project/pytesseract/\n",
    "- https://en.wikipedia.org/wiki/Word_search\n",
    "- https://scikit-image.org/docs/stable/user_guide/tutorial_segmentation.html\n",
    "- https://scikit-image.org/docs/0.20.x/auto_examples/segmentation/plot_regionprops.html"
   ]
  },
  {
   "cell_type": "code",
   "execution_count": null,
   "id": "ae1895fa",
   "metadata": {},
   "outputs": [],
   "source": []
  }
 ],
 "metadata": {
  "kernelspec": {
   "display_name": "Python 3",
   "language": "python",
   "name": "python3"
  },
  "language_info": {
   "codemirror_mode": {
    "name": "ipython",
    "version": 3
   },
   "file_extension": ".py",
   "mimetype": "text/x-python",
   "name": "python",
   "nbconvert_exporter": "python",
   "pygments_lexer": "ipython3",
   "version": "3.11.7"
  }
 },
 "nbformat": 4,
 "nbformat_minor": 5
}
